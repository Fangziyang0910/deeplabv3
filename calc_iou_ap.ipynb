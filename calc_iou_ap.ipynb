{
 "cells": [
  {
   "cell_type": "code",
   "execution_count": 11,
   "id": "ea499454-446e-4aa2-8696-bc1df29f5579",
   "metadata": {},
   "outputs": [],
   "source": [
    "import sys\n",
    "\n",
    "sys.path.append(\"/root/autodl-tmp/deeplabv3\")\n",
    "from datasets import DatasetSeq # (this needs to be imported before torch, because cv2 needs to be imported before torch for some reason)\n",
    "\n",
    "sys.path.append(\"/root/autodl-tmp/deeplabv3/model\")\n",
    "from deeplabv3 import DeepLabV3\n",
    "\n",
    "sys.path.append(\"/root/autodl-tmp/deeplabv3/utils\")\n",
    "from utils import label_img_to_color\n",
    "\n",
    "import torch\n",
    "import torch.utils.data\n",
    "import torch.nn as nn\n",
    "from torch.autograd import Variable\n",
    "import torch.optim as optim\n",
    "import torch.nn.functional as F\n",
    "\n",
    "import numpy as np\n",
    "import pickle\n",
    "import matplotlib\n",
    "%matplotlib inline\n",
    "import matplotlib.pyplot as plt\n",
    "import cv2\n",
    "\n",
    "import os"
   ]
  },
  {
   "cell_type": "code",
   "execution_count": 23,
   "id": "63eb47e5-d6e0-4293-89ce-406b30cbe9ad",
   "metadata": {},
   "outputs": [],
   "source": [
    "cityscapes_data_path = \"/root/autodl-tmp/deeplabv3/data/cityscapes\"#\"/root/deeplabv3/data/cityscapes\"\n",
    "cityscapes_meta_path = \"/root/autodl-tmp/deeplabv3/data/cityscapes/meta\"#\"/root/deeplabv3/data/cityscapes/meta\"\n",
    "cityscapes_pred_path = \"/root/autodl-tmp/deeplabv3/training_logs\"\n",
    "\n",
    "train_dirs = [\"jena/\", \"zurich/\", \"weimar/\", \"ulm/\", \"tubingen/\", \"stuttgart/\",\n",
    "            \"strasbourg/\", \"monchengladbach/\", \"krefeld/\", \"hanover/\",\n",
    "            \"hamburg/\", \"erfurt/\", \"dusseldorf/\", \"darmstadt/\", \"cologne/\",\n",
    "            \"bremen/\", \"bochum/\", \"aachen/\"]\n",
    "val_dirs = [\"frankfurt/\", \"munster/\", \"lindau/\"]\n",
    "test_dirs = [\"berlin/\", \"bielefeld/\", \"bonn/\", \"leverkusen/\", \"mainz/\", \"munich/\"]\n",
    "\n",
    "if not os.path.exists(cityscapes_meta_path):\n",
    "    os.makedirs(cityscapes_meta_path)\n",
    "if not os.path.exists(cityscapes_meta_path + \"/label_imgs\"):\n",
    "    os.makedirs(cityscapes_meta_path + \"/label_imgs\")\n",
    "\n",
    "\n",
    "img_dir = cityscapes_data_path + \"/leftImg8bit/val/\"   # get img id\n",
    "origin_dir = cityscapes_meta_path + \"/label_imgs/\"      # get orig label\n",
    "predict_dir = cityscapes_pred_path + \"/model_eval_seq/\" # get pred label\n"
   ]
  },
  {
   "cell_type": "code",
   "execution_count": null,
   "id": "964840f6-294b-46b8-8fa5-c49bea72041f",
   "metadata": {},
   "outputs": [],
   "source": [
    "APs = []\n",
    "IOUs = []\n",
    "for val_dirs in val_dirs:\n",
    "    print (val_dirs)\n",
    "\n",
    "    train_img_dir_path = img_dir + val_dirs \n",
    "    file_names = os.listdir(train_img_dir_path)\n",
    "    for file_name in file_names:\n",
    "        img_id = file_name.split(\"_leftImg8bit.png\")[0]\n",
    "\n",
    "        gtOrin_img_path = origin_dir + img_id + \".png\"\n",
    "        gtPred_img_path = predict_dir + img_id + \"_label.png\"\n",
    "        # \n",
    "        original_image = cv2.imread(gtOrin_img_path, 0)    # \n",
    "        original_image = cv2.resize(original_image, (1024, 512),\n",
    "                     interpolation=cv2.INTER_NEAREST)\n",
    "        predicted_image = cv2.imread(gtPred_img_path, 0)  # \n",
    "\n",
    "        # acc AP\n",
    "        correctly_classified_pixels = np.sum(predicted_image == original_image)\n",
    "        total_pixels = predicted_image.size\n",
    "        pixel_accuracy = correctly_classified_pixels / total_pixels\n",
    "\n",
    "        # \n",
    "        print(\"Pixel Accuracy:\", pixel_accuracy)\n",
    "        APs.append(pixel_accuracy)\n",
    "\n",
    "        #acc IOU\n",
    "        if predicted_image is not None and original_image is not None:\n",
    "            intersection = np.logical_and(predicted_image, original_image)\n",
    "            union = np.logical_or(predicted_image, original_image)\n",
    "\n",
    "            iou = np.sum(intersection) / np.sum(union)\n",
    "            print(\"Intersection over Union (IoU):\", iou)\n",
    "            IOUs.append(iou)\n",
    "        else:\n",
    "            print(\"Image loading failed.\")\n",
    "\n",
    "APs = np.array(APs)\n",
    "np.save('APs.npy', APs)\n",
    "\n",
    "APs = np.load('APs.npy')\n",
    "\n",
    "IOUs = np.array(IOUs)\n",
    "np.save('IOUs.npy', IOUs)\n",
    "\n",
    "IOUs = np.load('IOUs.npy')\n",
    "\n",
    "print(APs,IOUs)\n",
    "print(\"Intersection over Union (IoU):\", iou)"
   ]
  },
  {
   "cell_type": "code",
   "execution_count": 22,
   "id": "31a3247b-5f9f-4ea3-a4ef-9f704d50b40c",
   "metadata": {},
   "outputs": [
    {
     "name": "stdout",
     "output_type": "stream",
     "text": [
      "Pixel Accuracy: 0.86769234085083\n",
      "Intersection over Union (IoU): 0.954983232183881\n"
     ]
    },
    {
     "data": {
      "image/png": "[encoded data removed]",
      "text/plain": [
       "<Figure size 1440x360 with 1 Axes>"
      ]
     },
     "metadata": {
      "needs_background": "light"
     },
     "output_type": "display_data"
    },
    {
     "data": {
      "image/png": "[encoded data removed]",
      "text/plain": [
       "<Figure size 1440x360 with 1 Axes>"
      ]
     },
     "metadata": {
      "needs_background": "light"
     },
     "output_type": "display_data"
    }
   ],
   "source": [
    "file_path_1 = \"/root/autodl-tmp/deeplabv3/PAs.npy\"\n",
    "file_path_2= \"/root/autodl-tmp/deeplabv3/IOUs.npy\"\n",
    "if os.path.exists(file_path_1) and os.path.exists(file_path_2):\n",
    "    APs = np.load(file_path_1)        \n",
    "    IOUs = np.load(file_path_2)\n",
    "    print(\"Pixel Accuracy:\", APs.sum()/len(APs))\n",
    "    print(\"Intersection over Union (IoU):\", IOUs.sum()/len(IOUs))\n",
    "    \n",
    "    plt.figure(figsize=(20, 5)) \n",
    "    plt.subplot(1, 2, 1)\n",
    "    plt.hist(APs, bins=40)\n",
    "    plt.ylabel(\"Freq\")\n",
    "    plt.title(\"AP\")\n",
    "    plt.show()\n",
    "    plt.figure(figsize=(20, 5)) \n",
    "    plt.subplot(1, 2, 2)\n",
    "    plt.hist(IOUs, bins=40)\n",
    "    plt.ylabel(\"Freq\")\n",
    "    plt.title(\"IOU\")"
   ]
  },
  {
   "cell_type": "code",
   "execution_count": null,
   "id": "ed92eff0-84d9-4531-8582-c9954a9bb8f6",
   "metadata": {},
   "outputs": [],
   "source": []
  }
 ],
 "metadata": {
  "kernelspec": {
   "display_name": "Python 3 (ipykernel)",
   "language": "python",
   "name": "python3"
  },
  "language_info": {
   "codemirror_mode": {
    "name": "ipython",
    "version": 3
   },
   "file_extension": ".py",
   "mimetype": "text/x-python",
   "name": "python",
   "nbconvert_exporter": "python",
   "pygments_lexer": "ipython3",
   "version": "3.8.10"
  }
 },
 "nbformat": 4,
 "nbformat_minor": 5
}
