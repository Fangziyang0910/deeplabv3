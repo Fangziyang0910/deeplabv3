{
 "cells": [
  {
   "cell_type": "code",
   "execution_count": 1,
   "id": "213801ae-1687-4eff-8b9d-ccff4ef8f9a4",
   "metadata": {},
   "outputs": [
    {
     "name": "stderr",
     "output_type": "stream",
     "text": [
      "No CUDA runtime is found, using CUDA_HOME='/usr/local/cuda'\n"
     ]
    }
   ],
   "source": [
    "import sys\n",
    "\n",
    "sys.path.append(\"/root/autodl-tmp/deeplabv3\")\n",
    "from datasets import DatasetSeq # (this needs to be imported before torch, because cv2 needs to be imported before torch for some reason)\n",
    "\n",
    "sys.path.append(\"/root/autodl-tmp/deeplabv3/model\")\n",
    "from deeplabv3 import DeepLabV3\n",
    "\n",
    "sys.path.append(\"/root/autodl-tmp/deeplabv3/utils\")\n",
    "from utils import label_img_to_color\n",
    "\n",
    "import torch\n",
    "import torch.utils.data\n",
    "import torch.nn as nn\n",
    "from torch.autograd import Variable\n",
    "import torch.optim as optim\n",
    "import torch.nn.functional as F\n",
    "\n",
    "import numpy as np\n",
    "import matplotlib\n",
    "%matplotlib inline\n",
    "import matplotlib.pyplot as plt\n",
    "import time\n",
    "\n",
    "import os\n",
    "############## import ipex ###############\n",
    "import intel_extension_for_pytorch as ipex\n",
    "##########################################"
   ]
  },
  {
   "cell_type": "code",
   "execution_count": null,
   "id": "c4348021-0ee1-496d-8b5a-a63e0a8f96d5",
   "metadata": {},
   "outputs": [],
   "source": [
    "batch_size = 1\n",
    "\n",
    "network = DeepLabV3(\"eval_seq\", project_dir=\"/root/autodl-tmp/deeplabv3\")#.cuda()\n",
    "network.load_state_dict(torch.load(\"/root/autodl-tmp/deeplabv3/pretrained_models/model_1_epoch_288.pth\"))\n",
    "############## TorchScript ###############\n",
    "#optimizer = torch.optim.Adam(params = network.parameters(), lr=0.003)\n",
    "network.eval()\n",
    "network = ipex.optimize(model = network)\n",
    "# network = torch.compile(network, backend=\"ipex\")\n",
    "##########################################\n",
    "\n",
    "\n",
    "val_dirs = [\"frankfurt/\", \"munster/\", \"lindau/\"]\n",
    "test_dirs = [\"berlin/\", \"bielefeld/\", \"bonn/\", \"leverkusen/\", \"mainz/\", \"munich/\"]\n"
   ]
  },
  {
   "cell_type": "code",
   "execution_count": null,
   "id": "71c03fe1-b864-41a1-ba91-648399038f84",
   "metadata": {},
   "outputs": [],
   "source": [
    "Time = []\n",
    "for sequence in val_dirs:\n",
    "    print (sequence)\n",
    "\n",
    "    val_dataset = DatasetSeq(cityscapes_data_path=\"/root/autodl-tmp/deeplabv3/data/cityscapes\",\n",
    "                            cityscapes_meta_path=\"/root/autodl-tmp/deeplabv3/data/cityscapes/meta\",\n",
    "                            sequence=sequence)\n",
    "\n",
    "    num_val_batches = int(len(val_dataset)/batch_size)\n",
    "    print (\"num_val_batches:\", num_val_batches)\n",
    "\n",
    "    val_loader = torch.utils.data.DataLoader(dataset=val_dataset,\n",
    "                                            batch_size=batch_size, shuffle=False,\n",
    "                                            num_workers=1)\n",
    "\n",
    "    network.eval() # (set in evaluation mode, this affects BatchNorm and dropout)\n",
    "\n",
    "    unsorted_img_ids = []\n",
    "    for step, (imgs, img_ids) in enumerate(val_loader):\n",
    "        with torch.no_grad(): # (corresponds to setting volatile=True in all variables, this is done during inference to reduce memory consumption)\n",
    "            imgs = Variable(imgs)#.cuda() # (shape: (batch_size, 3, img_h, img_w))\n",
    "\n",
    "            start_time = time.time()\n",
    "            #outputs = network(imgs) # (shape: (batch_size, num_classes, img_h, img_w))\n",
    "            ##########################################\n",
    "            with torch.no_grad() and torch.cpu.amp.autocast():\n",
    "                network(imgs)# (shape: (batch_size, num_classes, img_h, img_w))\n",
    "            ##########################################\n",
    "            end_time = time.time()\n",
    "            elapsed_time = end_time - start_time\n",
    "            Time.append(elapsed_time)\n",
    "\n",
    "            Time = np.array(Time)\n",
    "            print(Time)\n",
    "            print(f\"Avg Predict Time: {Time.sum()/len(Time)} secs\")\n",
    "            return"
   ]
  },
  {
   "cell_type": "code",
   "execution_count": 6,
   "id": "cd1c11ed-9383-430b-b4c2-ef4b55ede181",
   "metadata": {},
   "outputs": [
    {
     "name": "stdout",
     "output_type": "stream",
     "text": [
      "Avg Predict Time: 0.0032307310573390273\n"
     ]
    },
    {
     "data": {
      "image/png": "[encoded data removed]",
      "text/plain": [
       "<Figure size 1440x360 with 1 Axes>"
      ]
     },
     "metadata": {
      "needs_background": "light"
     },
     "output_type": "display_data"
    }
   ],
   "source": [
    "file_path_ = \"/root/autodl-tmp/deeplabv3/Time.npy\"\n",
    "if os.path.exists(file_path_):\n",
    "    Time = np.load('Time.npy')        \n",
    "    print(\"Avg Predict Time:\", Time.sum()/len(Time))\n",
    "    for i in range(len(Time)):\n",
    "        if(Time[i]>0.01):\n",
    "            Time[i]=0.003\n",
    "    plt.figure(figsize=(20, 5)) \n",
    "    plt.subplot(1, 2, 1)\n",
    "    plt.hist(Time, bins=60)\n",
    "    plt.ylabel(\"Freq\")\n",
    "    plt.title(\"Time\")\n",
    "    plt.show()"
   ]
  },
  {
   "cell_type": "code",
   "execution_count": null,
   "id": "eb714ff2-f532-4541-a149-5e8fc4709e7d",
   "metadata": {},
   "outputs": [],
   "source": []
  }
 ],
 "metadata": {
  "kernelspec": {
   "display_name": "Python 3 (ipykernel)",
   "language": "python",
   "name": "python3"
  },
  "language_info": {
   "codemirror_mode": {
    "name": "ipython",
    "version": 3
   },
   "file_extension": ".py",
   "mimetype": "text/x-python",
   "name": "python",
   "nbconvert_exporter": "python",
   "pygments_lexer": "ipython3",
   "version": "3.8.10"
  }
 },
 "nbformat": 4,
 "nbformat_minor": 5
}
